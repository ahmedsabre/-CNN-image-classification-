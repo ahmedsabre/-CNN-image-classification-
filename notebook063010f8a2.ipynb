{
 "cells": [
  {
   "cell_type": "code",
   "execution_count": 1,
   "id": "77002e76",
   "metadata": {
    "_cell_guid": "b1076dfc-b9ad-4769-8c92-a6c4dae69d19",
    "_uuid": "8f2839f25d086af736a60e9eeb907d3b93b6e0e5",
    "execution": {
     "iopub.execute_input": "2023-03-05T12:50:29.741334Z",
     "iopub.status.busy": "2023-03-05T12:50:29.740505Z",
     "iopub.status.idle": "2023-03-05T12:50:29.753297Z",
     "shell.execute_reply": "2023-03-05T12:50:29.752285Z"
    },
    "papermill": {
     "duration": 0.022098,
     "end_time": "2023-03-05T12:50:29.755612",
     "exception": false,
     "start_time": "2023-03-05T12:50:29.733514",
     "status": "completed"
    },
    "tags": []
   },
   "outputs": [],
   "source": [
    "# This Python 3 environment comes with many helpful analytics libraries installed\n",
    "# It is defined by the kaggle/python Docker image: https://github.com/kaggle/docker-python\n",
    "# For example, here's several helpful packages to load\n",
    "\n",
    "import numpy as np # linear algebra\n",
    "import pandas as pd # data processing, CSV file I/O (e.g. pd.read_csv)\n",
    "\n",
    "# Input data files are available in the read-only \"../input/\" directory\n",
    "# For example, running this (by clicking run or pressing Shift+Enter) will list all files under the input directory\n",
    "\n",
    "import os\n",
    "for dirname, _, filenames in os.walk('/kaggle/input'):\n",
    "    for filename in filenames:\n",
    "        print(os.path.join(dirname, filename))\n",
    "\n",
    "# You can write up to 20GB to the current directory (/kaggle/working/) that gets preserved as output when you create a version using \"Save & Run All\" \n",
    "# You can also write temporary files to /kaggle/temp/, but they won't be saved outside of the current session"
   ]
  },
  {
   "cell_type": "markdown",
   "id": "89132c71",
   "metadata": {
    "papermill": {
     "duration": 0.004821,
     "end_time": "2023-03-05T12:50:29.765093",
     "exception": false,
     "start_time": "2023-03-05T12:50:29.760272",
     "status": "completed"
    },
    "tags": []
   },
   "source": [
    "# image classification for hand written digits by CNN"
   ]
  },
  {
   "cell_type": "markdown",
   "id": "8fcd2f56",
   "metadata": {
    "papermill": {
     "duration": 0.00422,
     "end_time": "2023-03-05T12:50:29.773489",
     "exception": false,
     "start_time": "2023-03-05T12:50:29.769269",
     "status": "completed"
    },
    "tags": []
   },
   "source": [
    "# import libraries"
   ]
  },
  {
   "cell_type": "code",
   "execution_count": 2,
   "id": "18cbb536",
   "metadata": {
    "execution": {
     "iopub.execute_input": "2023-03-05T12:50:29.784504Z",
     "iopub.status.busy": "2023-03-05T12:50:29.783469Z",
     "iopub.status.idle": "2023-03-05T12:50:43.599879Z",
     "shell.execute_reply": "2023-03-05T12:50:43.598792Z"
    },
    "papermill": {
     "duration": 13.82441,
     "end_time": "2023-03-05T12:50:43.602422",
     "exception": false,
     "start_time": "2023-03-05T12:50:29.778012",
     "status": "completed"
    },
    "tags": []
   },
   "outputs": [],
   "source": [
    "import tensorflow as tf\n",
    "from tensorflow.keras.layers import Dropout\n",
    "import pandas as pd\n",
    "import numpy as np\n",
    "import matplotlib.pyplot as plt\n",
    "%matplotlib inline"
   ]
  },
  {
   "cell_type": "code",
   "execution_count": 3,
   "id": "d253b338",
   "metadata": {
    "execution": {
     "iopub.execute_input": "2023-03-05T12:50:43.613038Z",
     "iopub.status.busy": "2023-03-05T12:50:43.612419Z",
     "iopub.status.idle": "2023-03-05T12:50:48.053606Z",
     "shell.execute_reply": "2023-03-05T12:50:48.052418Z"
    },
    "papermill": {
     "duration": 4.449283,
     "end_time": "2023-03-05T12:50:48.056436",
     "exception": false,
     "start_time": "2023-03-05T12:50:43.607153",
     "status": "completed"
    },
    "tags": []
   },
   "outputs": [
    {
     "name": "stdout",
     "output_type": "stream",
     "text": [
      "Downloading data from https://storage.googleapis.com/tensorflow/tf-keras-datasets/mnist.npz\n",
      "11490434/11490434 [==============================] - 0s 0us/step\n"
     ]
    }
   ],
   "source": [
    "mnist=tf.keras.datasets.mnist\n",
    "(X_train,y_train),(X_test,y_test)=mnist.load_data()"
   ]
  },
  {
   "cell_type": "markdown",
   "id": "6a341cf5",
   "metadata": {
    "papermill": {
     "duration": 0.004551,
     "end_time": "2023-03-05T12:50:48.066061",
     "exception": false,
     "start_time": "2023-03-05T12:50:48.061510",
     "status": "completed"
    },
    "tags": []
   },
   "source": [
    "# normalizing the data"
   ]
  },
  {
   "cell_type": "code",
   "execution_count": 4,
   "id": "5281ce9a",
   "metadata": {
    "execution": {
     "iopub.execute_input": "2023-03-05T12:50:48.076616Z",
     "iopub.status.busy": "2023-03-05T12:50:48.076304Z",
     "iopub.status.idle": "2023-03-05T12:50:48.229931Z",
     "shell.execute_reply": "2023-03-05T12:50:48.228818Z"
    },
    "papermill": {
     "duration": 0.162055,
     "end_time": "2023-03-05T12:50:48.232599",
     "exception": false,
     "start_time": "2023-03-05T12:50:48.070544",
     "status": "completed"
    },
    "tags": []
   },
   "outputs": [],
   "source": [
    "X_train=X_train/255\n",
    "X_test=X_test/255"
   ]
  },
  {
   "cell_type": "code",
   "execution_count": 5,
   "id": "fd30d6f1",
   "metadata": {
    "execution": {
     "iopub.execute_input": "2023-03-05T12:50:48.244420Z",
     "iopub.status.busy": "2023-03-05T12:50:48.244059Z",
     "iopub.status.idle": "2023-03-05T12:50:48.257108Z",
     "shell.execute_reply": "2023-03-05T12:50:48.255841Z"
    },
    "papermill": {
     "duration": 0.0228,
     "end_time": "2023-03-05T12:50:48.260965",
     "exception": false,
     "start_time": "2023-03-05T12:50:48.238165",
     "status": "completed"
    },
    "tags": []
   },
   "outputs": [
    {
     "name": "stdout",
     "output_type": "stream",
     "text": [
      "[[0.         0.         0.         0.         0.         0.\n",
      "  0.         0.         0.         0.         0.         0.\n",
      "  0.         0.         0.         0.         0.         0.\n",
      "  0.         0.         0.         0.         0.         0.\n",
      "  0.         0.         0.         0.        ]\n",
      " [0.         0.         0.         0.         0.         0.\n",
      "  0.         0.         0.         0.         0.         0.\n",
      "  0.         0.         0.         0.         0.         0.\n",
      "  0.         0.         0.         0.         0.         0.\n",
      "  0.         0.         0.         0.        ]\n",
      " [0.         0.         0.         0.         0.         0.\n",
      "  0.         0.         0.         0.         0.         0.\n",
      "  0.         0.         0.         0.         0.         0.\n",
      "  0.         0.         0.         0.         0.         0.\n",
      "  0.         0.         0.         0.        ]\n",
      " [0.         0.         0.         0.         0.         0.\n",
      "  0.         0.         0.         0.         0.         0.\n",
      "  0.         0.         0.         0.         0.         0.\n",
      "  0.         0.         0.         0.         0.         0.\n",
      "  0.         0.         0.         0.        ]\n",
      " [0.         0.         0.         0.         0.         0.\n",
      "  0.         0.         0.         0.         0.         0.\n",
      "  0.         0.         0.         0.         0.         0.\n",
      "  0.         0.         0.         0.         0.         0.\n",
      "  0.         0.         0.         0.        ]\n",
      " [0.         0.         0.         0.         0.         0.\n",
      "  0.         0.         0.         0.         0.         0.\n",
      "  0.01176471 0.07058824 0.07058824 0.07058824 0.49411765 0.53333333\n",
      "  0.68627451 0.10196078 0.65098039 1.         0.96862745 0.49803922\n",
      "  0.         0.         0.         0.        ]\n",
      " [0.         0.         0.         0.         0.         0.\n",
      "  0.         0.         0.11764706 0.14117647 0.36862745 0.60392157\n",
      "  0.66666667 0.99215686 0.99215686 0.99215686 0.99215686 0.99215686\n",
      "  0.88235294 0.6745098  0.99215686 0.94901961 0.76470588 0.25098039\n",
      "  0.         0.         0.         0.        ]\n",
      " [0.         0.         0.         0.         0.         0.\n",
      "  0.         0.19215686 0.93333333 0.99215686 0.99215686 0.99215686\n",
      "  0.99215686 0.99215686 0.99215686 0.99215686 0.99215686 0.98431373\n",
      "  0.36470588 0.32156863 0.32156863 0.21960784 0.15294118 0.\n",
      "  0.         0.         0.         0.        ]\n",
      " [0.         0.         0.         0.         0.         0.\n",
      "  0.         0.07058824 0.85882353 0.99215686 0.99215686 0.99215686\n",
      "  0.99215686 0.99215686 0.77647059 0.71372549 0.96862745 0.94509804\n",
      "  0.         0.         0.         0.         0.         0.\n",
      "  0.         0.         0.         0.        ]\n",
      " [0.         0.         0.         0.         0.         0.\n",
      "  0.         0.         0.31372549 0.61176471 0.41960784 0.99215686\n",
      "  0.99215686 0.80392157 0.04313725 0.         0.16862745 0.60392157\n",
      "  0.         0.         0.         0.         0.         0.\n",
      "  0.         0.         0.         0.        ]\n",
      " [0.         0.         0.         0.         0.         0.\n",
      "  0.         0.         0.         0.05490196 0.00392157 0.60392157\n",
      "  0.99215686 0.35294118 0.         0.         0.         0.\n",
      "  0.         0.         0.         0.         0.         0.\n",
      "  0.         0.         0.         0.        ]\n",
      " [0.         0.         0.         0.         0.         0.\n",
      "  0.         0.         0.         0.         0.         0.54509804\n",
      "  0.99215686 0.74509804 0.00784314 0.         0.         0.\n",
      "  0.         0.         0.         0.         0.         0.\n",
      "  0.         0.         0.         0.        ]\n",
      " [0.         0.         0.         0.         0.         0.\n",
      "  0.         0.         0.         0.         0.         0.04313725\n",
      "  0.74509804 0.99215686 0.2745098  0.         0.         0.\n",
      "  0.         0.         0.         0.         0.         0.\n",
      "  0.         0.         0.         0.        ]\n",
      " [0.         0.         0.         0.         0.         0.\n",
      "  0.         0.         0.         0.         0.         0.\n",
      "  0.1372549  0.94509804 0.88235294 0.62745098 0.42352941 0.00392157\n",
      "  0.         0.         0.         0.         0.         0.\n",
      "  0.         0.         0.         0.        ]\n",
      " [0.         0.         0.         0.         0.         0.\n",
      "  0.         0.         0.         0.         0.         0.\n",
      "  0.         0.31764706 0.94117647 0.99215686 0.99215686 0.46666667\n",
      "  0.09803922 0.         0.         0.         0.         0.\n",
      "  0.         0.         0.         0.        ]\n",
      " [0.         0.         0.         0.         0.         0.\n",
      "  0.         0.         0.         0.         0.         0.\n",
      "  0.         0.         0.17647059 0.72941176 0.99215686 0.99215686\n",
      "  0.58823529 0.10588235 0.         0.         0.         0.\n",
      "  0.         0.         0.         0.        ]\n",
      " [0.         0.         0.         0.         0.         0.\n",
      "  0.         0.         0.         0.         0.         0.\n",
      "  0.         0.         0.         0.0627451  0.36470588 0.98823529\n",
      "  0.99215686 0.73333333 0.         0.         0.         0.\n",
      "  0.         0.         0.         0.        ]\n",
      " [0.         0.         0.         0.         0.         0.\n",
      "  0.         0.         0.         0.         0.         0.\n",
      "  0.         0.         0.         0.         0.         0.97647059\n",
      "  0.99215686 0.97647059 0.25098039 0.         0.         0.\n",
      "  0.         0.         0.         0.        ]\n",
      " [0.         0.         0.         0.         0.         0.\n",
      "  0.         0.         0.         0.         0.         0.\n",
      "  0.         0.         0.18039216 0.50980392 0.71764706 0.99215686\n",
      "  0.99215686 0.81176471 0.00784314 0.         0.         0.\n",
      "  0.         0.         0.         0.        ]\n",
      " [0.         0.         0.         0.         0.         0.\n",
      "  0.         0.         0.         0.         0.         0.\n",
      "  0.15294118 0.58039216 0.89803922 0.99215686 0.99215686 0.99215686\n",
      "  0.98039216 0.71372549 0.         0.         0.         0.\n",
      "  0.         0.         0.         0.        ]\n",
      " [0.         0.         0.         0.         0.         0.\n",
      "  0.         0.         0.         0.         0.09411765 0.44705882\n",
      "  0.86666667 0.99215686 0.99215686 0.99215686 0.99215686 0.78823529\n",
      "  0.30588235 0.         0.         0.         0.         0.\n",
      "  0.         0.         0.         0.        ]\n",
      " [0.         0.         0.         0.         0.         0.\n",
      "  0.         0.         0.09019608 0.25882353 0.83529412 0.99215686\n",
      "  0.99215686 0.99215686 0.99215686 0.77647059 0.31764706 0.00784314\n",
      "  0.         0.         0.         0.         0.         0.\n",
      "  0.         0.         0.         0.        ]\n",
      " [0.         0.         0.         0.         0.         0.\n",
      "  0.07058824 0.67058824 0.85882353 0.99215686 0.99215686 0.99215686\n",
      "  0.99215686 0.76470588 0.31372549 0.03529412 0.         0.\n",
      "  0.         0.         0.         0.         0.         0.\n",
      "  0.         0.         0.         0.        ]\n",
      " [0.         0.         0.         0.         0.21568627 0.6745098\n",
      "  0.88627451 0.99215686 0.99215686 0.99215686 0.99215686 0.95686275\n",
      "  0.52156863 0.04313725 0.         0.         0.         0.\n",
      "  0.         0.         0.         0.         0.         0.\n",
      "  0.         0.         0.         0.        ]\n",
      " [0.         0.         0.         0.         0.53333333 0.99215686\n",
      "  0.99215686 0.99215686 0.83137255 0.52941176 0.51764706 0.0627451\n",
      "  0.         0.         0.         0.         0.         0.\n",
      "  0.         0.         0.         0.         0.         0.\n",
      "  0.         0.         0.         0.        ]\n",
      " [0.         0.         0.         0.         0.         0.\n",
      "  0.         0.         0.         0.         0.         0.\n",
      "  0.         0.         0.         0.         0.         0.\n",
      "  0.         0.         0.         0.         0.         0.\n",
      "  0.         0.         0.         0.        ]\n",
      " [0.         0.         0.         0.         0.         0.\n",
      "  0.         0.         0.         0.         0.         0.\n",
      "  0.         0.         0.         0.         0.         0.\n",
      "  0.         0.         0.         0.         0.         0.\n",
      "  0.         0.         0.         0.        ]\n",
      " [0.         0.         0.         0.         0.         0.\n",
      "  0.         0.         0.         0.         0.         0.\n",
      "  0.         0.         0.         0.         0.         0.\n",
      "  0.         0.         0.         0.         0.         0.\n",
      "  0.         0.         0.         0.        ]]\n"
     ]
    }
   ],
   "source": [
    "print(X_train[0])"
   ]
  },
  {
   "cell_type": "markdown",
   "id": "983c139e",
   "metadata": {
    "papermill": {
     "duration": 0.004718,
     "end_time": "2023-03-05T12:50:48.271866",
     "exception": false,
     "start_time": "2023-03-05T12:50:48.267148",
     "status": "completed"
    },
    "tags": []
   },
   "source": [
    "# visualize the data"
   ]
  },
  {
   "cell_type": "code",
   "execution_count": 6,
   "id": "bf82d760",
   "metadata": {
    "execution": {
     "iopub.execute_input": "2023-03-05T12:50:48.282579Z",
     "iopub.status.busy": "2023-03-05T12:50:48.282287Z",
     "iopub.status.idle": "2023-03-05T12:50:48.512237Z",
     "shell.execute_reply": "2023-03-05T12:50:48.511196Z"
    },
    "papermill": {
     "duration": 0.237649,
     "end_time": "2023-03-05T12:50:48.514408",
     "exception": false,
     "start_time": "2023-03-05T12:50:48.276759",
     "status": "completed"
    },
    "tags": []
   },
   "outputs": [
    {
     "data": {
      "image/png": "[encoded data removed]",
      "text/plain": [
       "<Figure size 640x480 with 1 Axes>"
      ]
     },
     "metadata": {},
     "output_type": "display_data"
    }
   ],
   "source": [
    "plt.imshow(X_train[0],cmap=plt.cm.binary)\n",
    "plt.show()"
   ]
  },
  {
   "cell_type": "markdown",
   "id": "8f5142b6",
   "metadata": {
    "papermill": {
     "duration": 0.004691,
     "end_time": "2023-03-05T12:50:48.524222",
     "exception": false,
     "start_time": "2023-03-05T12:50:48.519531",
     "status": "completed"
    },
    "tags": []
   },
   "source": [
    "# CNN model"
   ]
  },
  {
   "cell_type": "code",
   "execution_count": 7,
   "id": "a85d34ed",
   "metadata": {
    "execution": {
     "iopub.execute_input": "2023-03-05T12:50:48.535380Z",
     "iopub.status.busy": "2023-03-05T12:50:48.535064Z",
     "iopub.status.idle": "2023-03-05T12:51:35.993606Z",
     "shell.execute_reply": "2023-03-05T12:51:35.992604Z"
    },
    "papermill": {
     "duration": 47.48765,
     "end_time": "2023-03-05T12:51:36.016863",
     "exception": false,
     "start_time": "2023-03-05T12:50:48.529213",
     "status": "completed"
    },
    "tags": []
   },
   "outputs": [
    {
     "name": "stdout",
     "output_type": "stream",
     "text": [
      "Epoch 1/3\n",
      "1875/1875 [==============================] - 12s 3ms/step - loss: 0.2270 - accuracy: 0.9327\n",
      "Epoch 2/3\n",
      "1875/1875 [==============================] - 5s 3ms/step - loss: 0.0956 - accuracy: 0.9707\n",
      "Epoch 3/3\n",
      "1875/1875 [==============================] - 6s 3ms/step - loss: 0.0660 - accuracy: 0.9797\n"
     ]
    },
    {
     "data": {
      "text/plain": [
       "<keras.callbacks.History at 0x7fa3fbc6ab90>"
      ]
     },
     "execution_count": 7,
     "metadata": {},
     "output_type": "execute_result"
    }
   ],
   "source": [
    "model=tf.keras.models.Sequential()\n",
    "model.add(tf.keras.layers.Flatten())\n",
    "model.add(tf.keras.layers.Dense(128,activation=tf.nn.relu))\n",
    "model.add(tf.keras.layers.Dense(128,activation=tf.nn.relu))\n",
    "model.add(tf.keras.layers.Dense(10,activation=tf.nn.softmax))\n",
    "model.compile(optimizer='adam',loss='sparse_categorical_crossentropy',metrics=['accuracy'])\n",
    "model.fit(X_train,y_train,epochs=3)"
   ]
  },
  {
   "cell_type": "markdown",
   "id": "0e566cd3",
   "metadata": {
    "papermill": {
     "duration": 0.021934,
     "end_time": "2023-03-05T12:51:36.060585",
     "exception": false,
     "start_time": "2023-03-05T12:51:36.038651",
     "status": "completed"
    },
    "tags": []
   },
   "source": [
    "# print accuracy"
   ]
  },
  {
   "cell_type": "code",
   "execution_count": 8,
   "id": "27d2850d",
   "metadata": {
    "execution": {
     "iopub.execute_input": "2023-03-05T12:51:36.107597Z",
     "iopub.status.busy": "2023-03-05T12:51:36.106565Z",
     "iopub.status.idle": "2023-03-05T12:51:37.393723Z",
     "shell.execute_reply": "2023-03-05T12:51:37.392280Z"
    },
    "papermill": {
     "duration": 1.31387,
     "end_time": "2023-03-05T12:51:37.396571",
     "exception": false,
     "start_time": "2023-03-05T12:51:36.082701",
     "status": "completed"
    },
    "tags": []
   },
   "outputs": [
    {
     "name": "stdout",
     "output_type": "stream",
     "text": [
      "313/313 [==============================] - 1s 2ms/step - loss: 0.0820 - accuracy: 0.9751\n",
      "0.08203902840614319 0.9750999808311462\n"
     ]
    }
   ],
   "source": [
    "val_loss,val_acc=model.evaluate(X_test,y_test)\n",
    "print(val_loss,val_acc)"
   ]
  },
  {
   "cell_type": "markdown",
   "id": "14e8dee5",
   "metadata": {
    "papermill": {
     "duration": 0.022486,
     "end_time": "2023-03-05T12:51:37.442809",
     "exception": false,
     "start_time": "2023-03-05T12:51:37.420323",
     "status": "completed"
    },
    "tags": []
   },
   "source": [
    "# predicting random images"
   ]
  },
  {
   "cell_type": "code",
   "execution_count": 9,
   "id": "0f1bc88e",
   "metadata": {
    "execution": {
     "iopub.execute_input": "2023-03-05T12:51:37.491055Z",
     "iopub.status.busy": "2023-03-05T12:51:37.490726Z",
     "iopub.status.idle": "2023-03-05T12:51:38.623419Z",
     "shell.execute_reply": "2023-03-05T12:51:38.622356Z"
    },
    "papermill": {
     "duration": 1.160373,
     "end_time": "2023-03-05T12:51:38.626509",
     "exception": false,
     "start_time": "2023-03-05T12:51:37.466136",
     "status": "completed"
    },
    "tags": []
   },
   "outputs": [
    {
     "name": "stdout",
     "output_type": "stream",
     "text": [
      "313/313 [==============================] - 1s 2ms/step\n"
     ]
    }
   ],
   "source": [
    "prediction=model.predict([X_test])"
   ]
  },
  {
   "cell_type": "code",
   "execution_count": 10,
   "id": "e450e019",
   "metadata": {
    "execution": {
     "iopub.execute_input": "2023-03-05T12:51:38.676441Z",
     "iopub.status.busy": "2023-03-05T12:51:38.676105Z",
     "iopub.status.idle": "2023-03-05T12:51:38.682463Z",
     "shell.execute_reply": "2023-03-05T12:51:38.681348Z"
    },
    "papermill": {
     "duration": 0.034223,
     "end_time": "2023-03-05T12:51:38.685268",
     "exception": false,
     "start_time": "2023-03-05T12:51:38.651045",
     "status": "completed"
    },
    "tags": []
   },
   "outputs": [
    {
     "name": "stdout",
     "output_type": "stream",
     "text": [
      "7\n"
     ]
    }
   ],
   "source": [
    "print(np.argmax(prediction[0]))"
   ]
  },
  {
   "cell_type": "code",
   "execution_count": 11,
   "id": "fd713d1d",
   "metadata": {
    "execution": {
     "iopub.execute_input": "2023-03-05T12:51:38.734319Z",
     "iopub.status.busy": "2023-03-05T12:51:38.733973Z",
     "iopub.status.idle": "2023-03-05T12:51:38.940578Z",
     "shell.execute_reply": "2023-03-05T12:51:38.939591Z"
    },
    "papermill": {
     "duration": 0.233709,
     "end_time": "2023-03-05T12:51:38.942916",
     "exception": false,
     "start_time": "2023-03-05T12:51:38.709207",
     "status": "completed"
    },
    "tags": []
   },
   "outputs": [
    {
     "data": {
      "image/png": "[encoded data removed]",
      "text/plain": [
       "<Figure size 640x480 with 1 Axes>"
      ]
     },
     "metadata": {},
     "output_type": "display_data"
    }
   ],
   "source": [
    "plt.imshow(X_test[0])\n",
    "plt.show()"
   ]
  },
  {
   "cell_type": "code",
   "execution_count": 12,
   "id": "4bfb1aa2",
   "metadata": {
    "execution": {
     "iopub.execute_input": "2023-03-05T12:51:38.993285Z",
     "iopub.status.busy": "2023-03-05T12:51:38.992274Z",
     "iopub.status.idle": "2023-03-05T12:51:38.998290Z",
     "shell.execute_reply": "2023-03-05T12:51:38.997187Z"
    },
    "papermill": {
     "duration": 0.034134,
     "end_time": "2023-03-05T12:51:39.001437",
     "exception": false,
     "start_time": "2023-03-05T12:51:38.967303",
     "status": "completed"
    },
    "tags": []
   },
   "outputs": [
    {
     "name": "stdout",
     "output_type": "stream",
     "text": [
      "6\n"
     ]
    }
   ],
   "source": [
    "print(np.argmax(prediction[100]))"
   ]
  },
  {
   "cell_type": "code",
   "execution_count": 13,
   "id": "26e15b54",
   "metadata": {
    "execution": {
     "iopub.execute_input": "2023-03-05T12:51:39.053384Z",
     "iopub.status.busy": "2023-03-05T12:51:39.052743Z",
     "iopub.status.idle": "2023-03-05T12:51:39.254945Z",
     "shell.execute_reply": "2023-03-05T12:51:39.253874Z"
    },
    "papermill": {
     "duration": 0.230722,
     "end_time": "2023-03-05T12:51:39.257101",
     "exception": false,
     "start_time": "2023-03-05T12:51:39.026379",
     "status": "completed"
    },
    "tags": []
   },
   "outputs": [
    {
     "data": {
      "image/png": "[encoded data removed]",
      "text/plain": [
       "<Figure size 640x480 with 1 Axes>"
      ]
     },
     "metadata": {},
     "output_type": "display_data"
    }
   ],
   "source": [
    "plt.imshow(X_test[100])\n",
    "plt.show()"
   ]
  },
  {
   "cell_type": "code",
   "execution_count": 14,
   "id": "28a1423a",
   "metadata": {
    "execution": {
     "iopub.execute_input": "2023-03-05T12:51:39.308166Z",
     "iopub.status.busy": "2023-03-05T12:51:39.307106Z",
     "iopub.status.idle": "2023-03-05T12:51:39.314067Z",
     "shell.execute_reply": "2023-03-05T12:51:39.312699Z"
    },
    "papermill": {
     "duration": 0.034579,
     "end_time": "2023-03-05T12:51:39.316196",
     "exception": false,
     "start_time": "2023-03-05T12:51:39.281617",
     "status": "completed"
    },
    "tags": []
   },
   "outputs": [
    {
     "name": "stdout",
     "output_type": "stream",
     "text": [
      "8\n"
     ]
    }
   ],
   "source": [
    "print(np.argmax(prediction[1702]))"
   ]
  },
  {
   "cell_type": "code",
   "execution_count": 15,
   "id": "d730d043",
   "metadata": {
    "execution": {
     "iopub.execute_input": "2023-03-05T12:51:39.365472Z",
     "iopub.status.busy": "2023-03-05T12:51:39.365174Z",
     "iopub.status.idle": "2023-03-05T12:51:39.564511Z",
     "shell.execute_reply": "2023-03-05T12:51:39.563557Z"
    },
    "papermill": {
     "duration": 0.226349,
     "end_time": "2023-03-05T12:51:39.566705",
     "exception": false,
     "start_time": "2023-03-05T12:51:39.340356",
     "status": "completed"
    },
    "tags": []
   },
   "outputs": [
    {
     "data": {
      "image/png": "[encoded data removed]",
      "text/plain": [
       "<Figure size 640x480 with 1 Axes>"
      ]
     },
     "metadata": {},
     "output_type": "display_data"
    }
   ],
   "source": [
    "plt.imshow(X_test[1702])\n",
    "plt.show()"
   ]
  }
 ],
 "metadata": {
  "kernelspec": {
   "display_name": "Python 3",
   "language": "python",
   "name": "python3"
  },
  "language_info": {
   "codemirror_mode": {
    "name": "ipython",
    "version": 3
   },
   "file_extension": ".py",
   "mimetype": "text/x-python",
   "name": "python",
   "nbconvert_exporter": "python",
   "pygments_lexer": "ipython3",
   "version": "3.7.12"
  },
  "papermill": {
   "default_parameters": {},
   "duration": 85.907533,
   "end_time": "2023-03-05T12:51:43.110333",
   "environment_variables": {},
   "exception": null,
   "input_path": "__notebook__.ipynb",
   "output_path": "__notebook__.ipynb",
   "parameters": {},
   "start_time": "2023-03-05T12:50:17.202800",
   "version": "2.4.0"
  }
 },
 "nbformat": 4,
 "nbformat_minor": 5
}
